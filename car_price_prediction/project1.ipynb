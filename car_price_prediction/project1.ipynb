{
 "cells": [
  {
   "cell_type": "code",
   "execution_count": 48,
   "id": "4ef26ee9-e30d-4165-97f7-07b35308deb3",
   "metadata": {},
   "outputs": [],
   "source": [
    "import pandas as pd\n",
    "import matplotlib.pyplot as plt \n",
    "import seaborn as sns"
   ]
  },
  {
   "cell_type": "code",
   "execution_count": 49,
   "id": "093a617f-6ccb-4950-a0b3-df2396e8f0fd",
   "metadata": {},
   "outputs": [],
   "source": [
    "dataset = pd.read_csv('car_data.csv')  # if you have a .csv file\n"
   ]
  },
  {
   "cell_type": "code",
   "execution_count": 91,
   "id": "078014ed-60eb-41a1-8b89-5585c13b09b5",
   "metadata": {},
   "outputs": [
    {
     "data": {
      "text/html": [
       "<div>\n",
       "<style scoped>\n",
       "    .dataframe tbody tr th:only-of-type {\n",
       "        vertical-align: middle;\n",
       "    }\n",
       "\n",
       "    .dataframe tbody tr th {\n",
       "        vertical-align: top;\n",
       "    }\n",
       "\n",
       "    .dataframe thead th {\n",
       "        text-align: right;\n",
       "    }\n",
       "</style>\n",
       "<table border=\"1\" class=\"dataframe\">\n",
       "  <thead>\n",
       "    <tr style=\"text-align: right;\">\n",
       "      <th></th>\n",
       "      <th>Car_Name</th>\n",
       "      <th>Year</th>\n",
       "      <th>Present_Price</th>\n",
       "      <th>Kms_Driven</th>\n",
       "      <th>Fuel_Type</th>\n",
       "      <th>Seller_Type</th>\n",
       "      <th>Transmission</th>\n",
       "      <th>Owner</th>\n",
       "      <th>Selling_Price</th>\n",
       "    </tr>\n",
       "  </thead>\n",
       "  <tbody>\n",
       "    <tr>\n",
       "      <th>0</th>\n",
       "      <td>3</td>\n",
       "      <td>2014</td>\n",
       "      <td>5.59</td>\n",
       "      <td>27000</td>\n",
       "      <td>1</td>\n",
       "      <td>0</td>\n",
       "      <td>1</td>\n",
       "      <td>0</td>\n",
       "      <td>3.35</td>\n",
       "    </tr>\n",
       "    <tr>\n",
       "      <th>1</th>\n",
       "      <td>6</td>\n",
       "      <td>2013</td>\n",
       "      <td>9.54</td>\n",
       "      <td>43000</td>\n",
       "      <td>0</td>\n",
       "      <td>0</td>\n",
       "      <td>1</td>\n",
       "      <td>0</td>\n",
       "      <td>4.75</td>\n",
       "    </tr>\n",
       "    <tr>\n",
       "      <th>2</th>\n",
       "      <td>1</td>\n",
       "      <td>2017</td>\n",
       "      <td>9.85</td>\n",
       "      <td>6900</td>\n",
       "      <td>1</td>\n",
       "      <td>0</td>\n",
       "      <td>1</td>\n",
       "      <td>0</td>\n",
       "      <td>7.25</td>\n",
       "    </tr>\n",
       "    <tr>\n",
       "      <th>3</th>\n",
       "      <td>8</td>\n",
       "      <td>2011</td>\n",
       "      <td>4.15</td>\n",
       "      <td>5200</td>\n",
       "      <td>1</td>\n",
       "      <td>0</td>\n",
       "      <td>1</td>\n",
       "      <td>0</td>\n",
       "      <td>2.85</td>\n",
       "    </tr>\n",
       "    <tr>\n",
       "      <th>4</th>\n",
       "      <td>5</td>\n",
       "      <td>2014</td>\n",
       "      <td>6.87</td>\n",
       "      <td>42450</td>\n",
       "      <td>0</td>\n",
       "      <td>0</td>\n",
       "      <td>1</td>\n",
       "      <td>0</td>\n",
       "      <td>4.60</td>\n",
       "    </tr>\n",
       "  </tbody>\n",
       "</table>\n",
       "</div>"
      ],
      "text/plain": [
       "   Car_Name  Year  Present_Price  Kms_Driven  Fuel_Type  Seller_Type  \\\n",
       "0         3  2014           5.59       27000          1            0   \n",
       "1         6  2013           9.54       43000          0            0   \n",
       "2         1  2017           9.85        6900          1            0   \n",
       "3         8  2011           4.15        5200          1            0   \n",
       "4         5  2014           6.87       42450          0            0   \n",
       "\n",
       "   Transmission  Owner  Selling_Price  \n",
       "0             1      0           3.35  \n",
       "1             1      0           4.75  \n",
       "2             1      0           7.25  \n",
       "3             1      0           2.85  \n",
       "4             1      0           4.60  "
      ]
     },
     "execution_count": 91,
     "metadata": {},
     "output_type": "execute_result"
    }
   ],
   "source": [
    "dataset.head()"
   ]
  },
  {
   "cell_type": "code",
   "execution_count": 51,
   "id": "aeff573c-362c-4ac4-b6df-b2f13a95a697",
   "metadata": {},
   "outputs": [
    {
     "data": {
      "text/plain": [
       "Car_Name         0\n",
       "Year             0\n",
       "Present_Price    0\n",
       "Kms_Driven       0\n",
       "Fuel_Type        0\n",
       "Seller_Type      0\n",
       "Transmission     0\n",
       "Owner            0\n",
       "Selling_Price    0\n",
       "dtype: int64"
      ]
     },
     "execution_count": 51,
     "metadata": {},
     "output_type": "execute_result"
    }
   ],
   "source": [
    "dataset.isnull().sum() #check missing contant"
   ]
  },
  {
   "cell_type": "code",
   "execution_count": 52,
   "id": "e0e49646-9584-4da5-82b7-dd3f9b7f14d1",
   "metadata": {},
   "outputs": [
    {
     "name": "stdout",
     "output_type": "stream",
     "text": [
      "<class 'pandas.core.frame.DataFrame'>\n",
      "RangeIndex: 140 entries, 0 to 139\n",
      "Data columns (total 9 columns):\n",
      " #   Column         Non-Null Count  Dtype  \n",
      "---  ------         --------------  -----  \n",
      " 0   Car_Name       140 non-null    object \n",
      " 1   Year           140 non-null    int64  \n",
      " 2   Present_Price  140 non-null    float64\n",
      " 3   Kms_Driven     140 non-null    int64  \n",
      " 4   Fuel_Type      140 non-null    object \n",
      " 5   Seller_Type    140 non-null    object \n",
      " 6   Transmission   140 non-null    object \n",
      " 7   Owner          140 non-null    int64  \n",
      " 8   Selling_Price  140 non-null    float64\n",
      "dtypes: float64(2), int64(3), object(4)\n",
      "memory usage: 10.0+ KB\n"
     ]
    }
   ],
   "source": [
    "dataset.info()   #check data type"
   ]
  },
  {
   "cell_type": "code",
   "execution_count": null,
   "id": "b696c129-acd5-475e-8978-51eb44c6ea82",
   "metadata": {},
   "outputs": [],
   "source": []
  },
  {
   "cell_type": "code",
   "execution_count": 53,
   "id": "1c549ee1-e1e7-475c-9128-769b8c2d389f",
   "metadata": {},
   "outputs": [],
   "source": [
    "#use encoding for Ml"
   ]
  },
  {
   "cell_type": "markdown",
   "id": "258ad796-af78-4032-8449-6d6c5901c679",
   "metadata": {},
   "source": [
    "#car name"
   ]
  },
  {
   "cell_type": "code",
   "execution_count": 54,
   "id": "1ffa7495-979a-4711-b0a0-a848ea8bf2c0",
   "metadata": {},
   "outputs": [],
   "source": [
    "from sklearn.preprocessing import LabelEncoder"
   ]
  },
  {
   "cell_type": "code",
   "execution_count": 55,
   "id": "706cdfe1-ac18-4446-9606-5e4dce885db8",
   "metadata": {},
   "outputs": [],
   "source": [
    "car_name_l = LabelEncoder()  # Create a LabelEncoder object to convert car names (text) into numbers\n",
    "\n",
    "dataset[\"Car_Name\"] = car_name_l.fit_transform(dataset[\"Car_Name\"])  \n",
    "# This line does two things:\n",
    "# 1. It learns all unique car names using .fit()\n",
    "# 2. Then replaces each name with a unique number using .transform()\n",
    "# Example: \"ritz\" → 2, \"ciaz\" → 0, \"swift\" → 4 (numbering depends on sorting)\n"
   ]
  },
  {
   "cell_type": "code",
   "execution_count": 56,
   "id": "5f9d98d3-7516-4b75-932a-e739050871a9",
   "metadata": {},
   "outputs": [],
   "source": [
    "dataset[\"Car_Name\"] = car_name_l.fit_transform(dataset[\"Car_Name\"])  \n",
    "# Converts all car names (text) to numbers so machine learning models can use them\n"
   ]
  },
  {
   "cell_type": "code",
   "execution_count": null,
   "id": "e05d96fc-e83a-4114-9ff9-74f1b7d14862",
   "metadata": {},
   "outputs": [],
   "source": []
  },
  {
   "cell_type": "markdown",
   "id": "df74c2a1-91dc-4312-880b-555da082cad4",
   "metadata": {},
   "source": [
    "#fule type"
   ]
  },
  {
   "cell_type": "code",
   "execution_count": 57,
   "id": "78eeb2e3-b20c-4977-b98a-5af10f307bec",
   "metadata": {},
   "outputs": [
    {
     "data": {
      "text/plain": [
       "array(['Petrol', 'Diesel'], dtype=object)"
      ]
     },
     "execution_count": 57,
     "metadata": {},
     "output_type": "execute_result"
    }
   ],
   "source": [
    "dataset[\"Fuel_Type\"].unique()  \n",
    "# Shows all unique fuel types available in the dataset (like Petrol, Diesel, CNG)"
   ]
  },
  {
   "cell_type": "code",
   "execution_count": 58,
   "id": "6727a4e9-2a73-41d8-83c9-dc0358003a00",
   "metadata": {},
   "outputs": [],
   "source": [
    "fule_ty = LabelEncoder()  \n",
    "\n",
    "dataset[\"Fuel_Type\"] = car_name_l.fit_transform(dataset[\"Fuel_Type\"])  "
   ]
  },
  {
   "cell_type": "code",
   "execution_count": null,
   "id": "eed03e80-1dc7-45c5-8aba-624b210d9f74",
   "metadata": {},
   "outputs": [],
   "source": []
  },
  {
   "cell_type": "markdown",
   "id": "f92ca7e5-b5b7-48bd-a4dd-5561d53a3118",
   "metadata": {},
   "source": [
    "#seller type"
   ]
  },
  {
   "cell_type": "code",
   "execution_count": 59,
   "id": "17032e87-6aee-4b04-99d7-c1b47f9053d4",
   "metadata": {},
   "outputs": [],
   "source": [
    "seller_ty = LabelEncoder()  \n",
    "\n",
    "dataset[\"Seller_Type\"] = car_name_l.fit_transform(dataset[\"Seller_Type\"])  "
   ]
  },
  {
   "cell_type": "code",
   "execution_count": null,
   "id": "9a4e415e-5973-44e0-9c70-0392b598db39",
   "metadata": {},
   "outputs": [],
   "source": []
  },
  {
   "cell_type": "markdown",
   "id": "3369278d-7dea-4338-9092-82476fc8bc1c",
   "metadata": {},
   "source": [
    "#Transmission"
   ]
  },
  {
   "cell_type": "code",
   "execution_count": 60,
   "id": "f03ce78b-e826-4304-91e6-1b911cd24fcd",
   "metadata": {},
   "outputs": [],
   "source": [
    "Transmission_ty = LabelEncoder()  \n",
    "\n",
    "dataset[\"Transmission\"] = car_name_l.fit_transform(dataset[\"Transmission\"])  "
   ]
  },
  {
   "cell_type": "code",
   "execution_count": null,
   "id": "10710d05-34f1-4b86-8bc5-347f36eaca1f",
   "metadata": {},
   "outputs": [],
   "source": []
  },
  {
   "cell_type": "code",
   "execution_count": null,
   "id": "66a7e9ef-9da3-4dbe-91d6-d4187055f950",
   "metadata": {},
   "outputs": [],
   "source": []
  },
  {
   "cell_type": "code",
   "execution_count": 61,
   "id": "f916425b-bce6-435e-85f8-f0c13aa18498",
   "metadata": {},
   "outputs": [],
   "source": [
    "input_data = dataset.iloc[:, :-1]       # selects all rows, and all columns except the last one\n",
    "output_data = dataset[\"Selling_Price\"]  # selects only the Selling_Price column as the target/output\n"
   ]
  },
  {
   "cell_type": "code",
   "execution_count": 62,
   "id": "3898b91a-020e-445e-952f-7691712de105",
   "metadata": {},
   "outputs": [
    {
     "name": "stdout",
     "output_type": "stream",
     "text": [
      "   Car_Name  Year  Present_Price  Kms_Driven  Fuel_Type  Seller_Type  \\\n",
      "0         3  2014           5.59       27000          1            0   \n",
      "1         6  2013           9.54       43000          0            0   \n",
      "2         1  2017           9.85        6900          1            0   \n",
      "3         8  2011           4.15        5200          1            0   \n",
      "4         5  2014           6.87       42450          0            0   \n",
      "\n",
      "   Transmission  Owner  \n",
      "0             1      0  \n",
      "1             1      0  \n",
      "2             1      0  \n",
      "3             1      0  \n",
      "4             1      0  \n"
     ]
    }
   ],
   "source": [
    "print(input_data.head())       # shows first 5 rows of input (X) data\n"
   ]
  },
  {
   "cell_type": "code",
   "execution_count": 63,
   "id": "1e7be544-4962-427d-9f38-f3322c9b5dbf",
   "metadata": {},
   "outputs": [
    {
     "name": "stdout",
     "output_type": "stream",
     "text": [
      "0    3.35\n",
      "1    4.75\n",
      "2    7.25\n",
      "3    2.85\n",
      "4    4.60\n",
      "Name: Selling_Price, dtype: float64\n"
     ]
    }
   ],
   "source": [
    "print(output_data.head())      # shows first 5 values of output (y) data"
   ]
  },
  {
   "cell_type": "code",
   "execution_count": null,
   "id": "5f7fae05-a07f-41c0-a2d8-672b88100696",
   "metadata": {},
   "outputs": [],
   "source": []
  },
  {
   "cell_type": "code",
   "execution_count": null,
   "id": "4ae58898-b70e-4f25-95ad-cc857c652cc7",
   "metadata": {},
   "outputs": [],
   "source": []
  },
  {
   "cell_type": "code",
   "execution_count": 64,
   "id": "8e483f04-3ce7-434e-acc4-eee60e50d3ae",
   "metadata": {},
   "outputs": [],
   "source": [
    "from sklearn.preprocessing import StandardScaler\n",
    "\n",
    "ss = StandardScaler()  # create a scaler object\n",
    "\n",
    "input_data = pd.DataFrame(\n",
    "    ss.fit_transform(input_data),       # scale the data (mean=0, std=1)\n",
    "    columns=input_data.columns          # keep original column names\n",
    ")\n"
   ]
  },
  {
   "cell_type": "code",
   "execution_count": 65,
   "id": "e60bb48a-b753-4134-89e0-764b3a22a0d2",
   "metadata": {},
   "outputs": [
    {
     "data": {
      "text/html": [
       "<div>\n",
       "<style scoped>\n",
       "    .dataframe tbody tr th:only-of-type {\n",
       "        vertical-align: middle;\n",
       "    }\n",
       "\n",
       "    .dataframe tbody tr th {\n",
       "        vertical-align: top;\n",
       "    }\n",
       "\n",
       "    .dataframe thead th {\n",
       "        text-align: right;\n",
       "    }\n",
       "</style>\n",
       "<table border=\"1\" class=\"dataframe\">\n",
       "  <thead>\n",
       "    <tr style=\"text-align: right;\">\n",
       "      <th></th>\n",
       "      <th>Car_Name</th>\n",
       "      <th>Year</th>\n",
       "      <th>Present_Price</th>\n",
       "      <th>Kms_Driven</th>\n",
       "      <th>Fuel_Type</th>\n",
       "      <th>Seller_Type</th>\n",
       "      <th>Transmission</th>\n",
       "      <th>Owner</th>\n",
       "    </tr>\n",
       "  </thead>\n",
       "  <tbody>\n",
       "    <tr>\n",
       "      <th>0</th>\n",
       "      <td>0.028341</td>\n",
       "      <td>-0.591608</td>\n",
       "      <td>-1.145694</td>\n",
       "      <td>0.188865</td>\n",
       "      <td>1.0</td>\n",
       "      <td>0.0</td>\n",
       "      <td>0.277350</td>\n",
       "      <td>0.0</td>\n",
       "    </tr>\n",
       "    <tr>\n",
       "      <th>1</th>\n",
       "      <td>1.218663</td>\n",
       "      <td>-1.183216</td>\n",
       "      <td>0.732104</td>\n",
       "      <td>1.187136</td>\n",
       "      <td>-1.0</td>\n",
       "      <td>0.0</td>\n",
       "      <td>0.277350</td>\n",
       "      <td>0.0</td>\n",
       "    </tr>\n",
       "    <tr>\n",
       "      <th>2</th>\n",
       "      <td>-0.765207</td>\n",
       "      <td>1.183216</td>\n",
       "      <td>0.879475</td>\n",
       "      <td>-1.065213</td>\n",
       "      <td>1.0</td>\n",
       "      <td>0.0</td>\n",
       "      <td>0.277350</td>\n",
       "      <td>0.0</td>\n",
       "    </tr>\n",
       "    <tr>\n",
       "      <th>3</th>\n",
       "      <td>2.012212</td>\n",
       "      <td>-2.366432</td>\n",
       "      <td>-1.830259</td>\n",
       "      <td>-1.171279</td>\n",
       "      <td>1.0</td>\n",
       "      <td>0.0</td>\n",
       "      <td>0.277350</td>\n",
       "      <td>0.0</td>\n",
       "    </tr>\n",
       "    <tr>\n",
       "      <th>4</th>\n",
       "      <td>0.821889</td>\n",
       "      <td>-0.591608</td>\n",
       "      <td>-0.537193</td>\n",
       "      <td>1.152820</td>\n",
       "      <td>-1.0</td>\n",
       "      <td>0.0</td>\n",
       "      <td>0.277350</td>\n",
       "      <td>0.0</td>\n",
       "    </tr>\n",
       "    <tr>\n",
       "      <th>...</th>\n",
       "      <td>...</td>\n",
       "      <td>...</td>\n",
       "      <td>...</td>\n",
       "      <td>...</td>\n",
       "      <td>...</td>\n",
       "      <td>...</td>\n",
       "      <td>...</td>\n",
       "      <td>...</td>\n",
       "    </tr>\n",
       "    <tr>\n",
       "      <th>135</th>\n",
       "      <td>-0.765207</td>\n",
       "      <td>0.000000</td>\n",
       "      <td>0.437361</td>\n",
       "      <td>1.147642</td>\n",
       "      <td>-1.0</td>\n",
       "      <td>0.0</td>\n",
       "      <td>0.277350</td>\n",
       "      <td>0.0</td>\n",
       "    </tr>\n",
       "    <tr>\n",
       "      <th>136</th>\n",
       "      <td>-1.161981</td>\n",
       "      <td>1.183216</td>\n",
       "      <td>-2.091724</td>\n",
       "      <td>-1.362511</td>\n",
       "      <td>1.0</td>\n",
       "      <td>0.0</td>\n",
       "      <td>0.277350</td>\n",
       "      <td>0.0</td>\n",
       "    </tr>\n",
       "    <tr>\n",
       "      <th>137</th>\n",
       "      <td>-0.765207</td>\n",
       "      <td>0.000000</td>\n",
       "      <td>1.131433</td>\n",
       "      <td>1.686271</td>\n",
       "      <td>-1.0</td>\n",
       "      <td>0.0</td>\n",
       "      <td>0.277350</td>\n",
       "      <td>0.0</td>\n",
       "    </tr>\n",
       "    <tr>\n",
       "      <th>138</th>\n",
       "      <td>-0.765207</td>\n",
       "      <td>0.000000</td>\n",
       "      <td>0.922260</td>\n",
       "      <td>-0.559838</td>\n",
       "      <td>1.0</td>\n",
       "      <td>0.0</td>\n",
       "      <td>-3.605551</td>\n",
       "      <td>0.0</td>\n",
       "    </tr>\n",
       "    <tr>\n",
       "      <th>139</th>\n",
       "      <td>-0.368433</td>\n",
       "      <td>0.000000</td>\n",
       "      <td>-0.137864</td>\n",
       "      <td>0.126473</td>\n",
       "      <td>1.0</td>\n",
       "      <td>0.0</td>\n",
       "      <td>0.277350</td>\n",
       "      <td>0.0</td>\n",
       "    </tr>\n",
       "  </tbody>\n",
       "</table>\n",
       "<p>140 rows × 8 columns</p>\n",
       "</div>"
      ],
      "text/plain": [
       "     Car_Name      Year  Present_Price  Kms_Driven  Fuel_Type  Seller_Type  \\\n",
       "0    0.028341 -0.591608      -1.145694    0.188865        1.0          0.0   \n",
       "1    1.218663 -1.183216       0.732104    1.187136       -1.0          0.0   \n",
       "2   -0.765207  1.183216       0.879475   -1.065213        1.0          0.0   \n",
       "3    2.012212 -2.366432      -1.830259   -1.171279        1.0          0.0   \n",
       "4    0.821889 -0.591608      -0.537193    1.152820       -1.0          0.0   \n",
       "..        ...       ...            ...         ...        ...          ...   \n",
       "135 -0.765207  0.000000       0.437361    1.147642       -1.0          0.0   \n",
       "136 -1.161981  1.183216      -2.091724   -1.362511        1.0          0.0   \n",
       "137 -0.765207  0.000000       1.131433    1.686271       -1.0          0.0   \n",
       "138 -0.765207  0.000000       0.922260   -0.559838        1.0          0.0   \n",
       "139 -0.368433  0.000000      -0.137864    0.126473        1.0          0.0   \n",
       "\n",
       "     Transmission  Owner  \n",
       "0        0.277350    0.0  \n",
       "1        0.277350    0.0  \n",
       "2        0.277350    0.0  \n",
       "3        0.277350    0.0  \n",
       "4        0.277350    0.0  \n",
       "..            ...    ...  \n",
       "135      0.277350    0.0  \n",
       "136      0.277350    0.0  \n",
       "137      0.277350    0.0  \n",
       "138     -3.605551    0.0  \n",
       "139      0.277350    0.0  \n",
       "\n",
       "[140 rows x 8 columns]"
      ]
     },
     "execution_count": 65,
     "metadata": {},
     "output_type": "execute_result"
    }
   ],
   "source": [
    "input_data"
   ]
  },
  {
   "cell_type": "code",
   "execution_count": 66,
   "id": "01e2c039-ff32-4fb1-aed4-948c3aa6fabb",
   "metadata": {},
   "outputs": [],
   "source": [
    "from sklearn.model_selection import train_test_split\n",
    "\n",
    "x_train, x_test, y_train, y_test = train_test_split(\n",
    "    input_data, output_data, test_size=0.2, random_state=42\n",
    ")\n"
   ]
  },
  {
   "cell_type": "code",
   "execution_count": 67,
   "id": "46925d1b-776a-4bee-86a0-c083720e485f",
   "metadata": {},
   "outputs": [
    {
     "data": {
      "image/png": "[encoded data removed]",
      "text/plain": [
       "<Figure size 640x480 with 2 Axes>"
      ]
     },
     "metadata": {},
     "output_type": "display_data"
    }
   ],
   "source": [
    "sns.heatmap(data=dataset.corr(), annot=True)\n",
    "plt.show()\n"
   ]
  },
  {
   "cell_type": "code",
   "execution_count": 68,
   "id": "0971d22a-815f-4462-b369-a98f1aefecc1",
   "metadata": {},
   "outputs": [],
   "source": [
    "from sklearn.linear_model import LinearRegression, Lasso, Ridge, ElasticNet\n",
    "from sklearn.tree import DecisionTreeRegressor\n",
    "from sklearn.svm import SVR\n",
    "from sklearn.neighbors import KNeighborsRegressor\n",
    "from sklearn.ensemble import RandomForestRegressor"
   ]
  },
  {
   "cell_type": "code",
   "execution_count": null,
   "id": "ee25e4bd-eb42-4a08-ac69-c09b2646089b",
   "metadata": {},
   "outputs": [],
   "source": []
  },
  {
   "cell_type": "code",
   "execution_count": null,
   "id": "ab14691b-8aa7-42bf-a69c-440bd4726409",
   "metadata": {},
   "outputs": [],
   "source": []
  },
  {
   "cell_type": "code",
   "execution_count": 69,
   "id": "03059507-e531-4862-b032-f9907a3ac5c1",
   "metadata": {},
   "outputs": [
    {
     "data": {
      "text/plain": [
       "(86.46894341456289, 86.1742805471164)"
      ]
     },
     "execution_count": 69,
     "metadata": {},
     "output_type": "execute_result"
    }
   ],
   "source": [
    "lr = LinearRegression()\n",
    "lr.fit(x_train, y_train)\n",
    "lr.score(x_train, y_train)*100 , lr.score(x_test, y_test)*100"
   ]
  },
  {
   "cell_type": "code",
   "execution_count": 70,
   "id": "b368b7b6-fde0-4bcc-893e-1fc9c2988352",
   "metadata": {},
   "outputs": [
    {
     "data": {
      "text/plain": [
       "(100.0, 100.0)"
      ]
     },
     "execution_count": 70,
     "metadata": {},
     "output_type": "execute_result"
    }
   ],
   "source": [
    "dt = DecisionTreeRegressor()\n",
    "dt.fit(x_train, y_train)\n",
    "dt.score(x_train, y_train)*100 , dt.score(x_test, y_test)*100"
   ]
  },
  {
   "cell_type": "code",
   "execution_count": 71,
   "id": "92351616-57b1-40c7-8b1e-3b7c64875cab",
   "metadata": {},
   "outputs": [
    {
     "data": {
      "text/plain": [
       "(100.0, 100.0)"
      ]
     },
     "execution_count": 71,
     "metadata": {},
     "output_type": "execute_result"
    }
   ],
   "source": [
    "rf = RandomForestRegressor(n_estimators= 100)\n",
    "rf.fit(x_train, y_train)\n",
    "rf.score(x_train, y_train)*100 , rf.score(x_test, y_test)*100"
   ]
  },
  {
   "cell_type": "markdown",
   "id": "3229d2f7-4ee5-4e98-9650-3a4221d54edf",
   "metadata": {},
   "source": [
    "mean_squared_error(y_test, rf.predict(x_test))\n",
    "mean_absolute_error(y_test, rf.predict(x_test))"
   ]
  },
  {
   "cell_type": "code",
   "execution_count": null,
   "id": "fe77ba57-e5be-4a58-bdf8-5515ccb684c9",
   "metadata": {},
   "outputs": [],
   "source": []
  },
  {
   "cell_type": "code",
   "execution_count": 72,
   "id": "b2a9dde5-cd15-447a-9996-aa46c65ddce1",
   "metadata": {},
   "outputs": [
    {
     "name": "stderr",
     "output_type": "stream",
     "text": [
      "C:\\Users\\SHREE\\AppData\\Local\\Programs\\Python\\Python313\\Lib\\site-packages\\sklearn\\utils\\validation.py:2739: UserWarning: X does not have valid feature names, but RandomForestRegressor was fitted with feature names\n",
      "  warnings.warn(\n"
     ]
    },
    {
     "data": {
      "text/plain": [
       "array([2.25])"
      ]
     },
     "execution_count": 72,
     "metadata": {},
     "output_type": "execute_result"
    }
   ],
   "source": [
    "rf.predict([[-1.161981\t,1.183216\t,-2.091724\t,-1.362511\t,1.0\t,0.0\t,0.277350\t,0.0]])"
   ]
  },
  {
   "cell_type": "code",
   "execution_count": 73,
   "id": "0376dbab-c41e-4d9b-ae1c-89d0f312c836",
   "metadata": {},
   "outputs": [
    {
     "data": {
      "text/html": [
       "<div>\n",
       "<style scoped>\n",
       "    .dataframe tbody tr th:only-of-type {\n",
       "        vertical-align: middle;\n",
       "    }\n",
       "\n",
       "    .dataframe tbody tr th {\n",
       "        vertical-align: top;\n",
       "    }\n",
       "\n",
       "    .dataframe thead th {\n",
       "        text-align: right;\n",
       "    }\n",
       "</style>\n",
       "<table border=\"1\" class=\"dataframe\">\n",
       "  <thead>\n",
       "    <tr style=\"text-align: right;\">\n",
       "      <th></th>\n",
       "      <th>Car_Name</th>\n",
       "      <th>Year</th>\n",
       "      <th>Present_Price</th>\n",
       "      <th>Kms_Driven</th>\n",
       "      <th>Fuel_Type</th>\n",
       "      <th>Seller_Type</th>\n",
       "      <th>Transmission</th>\n",
       "      <th>Owner</th>\n",
       "    </tr>\n",
       "  </thead>\n",
       "  <tbody>\n",
       "    <tr>\n",
       "      <th>108</th>\n",
       "      <td>-1.161981</td>\n",
       "      <td>1.183216</td>\n",
       "      <td>-2.091724</td>\n",
       "      <td>-1.362511</td>\n",
       "      <td>1.0</td>\n",
       "      <td>0.0</td>\n",
       "      <td>0.277350</td>\n",
       "      <td>0.0</td>\n",
       "    </tr>\n",
       "    <tr>\n",
       "      <th>67</th>\n",
       "      <td>-0.765207</td>\n",
       "      <td>0.000000</td>\n",
       "      <td>1.131433</td>\n",
       "      <td>1.686271</td>\n",
       "      <td>-1.0</td>\n",
       "      <td>0.0</td>\n",
       "      <td>0.277350</td>\n",
       "      <td>0.0</td>\n",
       "    </tr>\n",
       "    <tr>\n",
       "      <th>31</th>\n",
       "      <td>2.012212</td>\n",
       "      <td>-2.366432</td>\n",
       "      <td>-1.830259</td>\n",
       "      <td>-1.171279</td>\n",
       "      <td>1.0</td>\n",
       "      <td>0.0</td>\n",
       "      <td>0.277350</td>\n",
       "      <td>0.0</td>\n",
       "    </tr>\n",
       "    <tr>\n",
       "      <th>119</th>\n",
       "      <td>0.425115</td>\n",
       "      <td>0.000000</td>\n",
       "      <td>0.289989</td>\n",
       "      <td>0.589983</td>\n",
       "      <td>-1.0</td>\n",
       "      <td>0.0</td>\n",
       "      <td>0.277350</td>\n",
       "      <td>0.0</td>\n",
       "    </tr>\n",
       "    <tr>\n",
       "      <th>42</th>\n",
       "      <td>0.028341</td>\n",
       "      <td>-0.591608</td>\n",
       "      <td>-1.145694</td>\n",
       "      <td>0.188865</td>\n",
       "      <td>1.0</td>\n",
       "      <td>0.0</td>\n",
       "      <td>0.277350</td>\n",
       "      <td>0.0</td>\n",
       "    </tr>\n",
       "    <tr>\n",
       "      <th>12</th>\n",
       "      <td>-0.765207</td>\n",
       "      <td>0.000000</td>\n",
       "      <td>0.922260</td>\n",
       "      <td>-0.559838</td>\n",
       "      <td>1.0</td>\n",
       "      <td>0.0</td>\n",
       "      <td>-3.605551</td>\n",
       "      <td>0.0</td>\n",
       "    </tr>\n",
       "    <tr>\n",
       "      <th>81</th>\n",
       "      <td>-0.765207</td>\n",
       "      <td>0.000000</td>\n",
       "      <td>1.131433</td>\n",
       "      <td>1.686271</td>\n",
       "      <td>-1.0</td>\n",
       "      <td>0.0</td>\n",
       "      <td>0.277350</td>\n",
       "      <td>0.0</td>\n",
       "    </tr>\n",
       "    <tr>\n",
       "      <th>69</th>\n",
       "      <td>-0.368433</td>\n",
       "      <td>0.000000</td>\n",
       "      <td>-0.137864</td>\n",
       "      <td>0.126473</td>\n",
       "      <td>1.0</td>\n",
       "      <td>0.0</td>\n",
       "      <td>0.277350</td>\n",
       "      <td>0.0</td>\n",
       "    </tr>\n",
       "    <tr>\n",
       "      <th>104</th>\n",
       "      <td>-0.765207</td>\n",
       "      <td>0.000000</td>\n",
       "      <td>0.057047</td>\n",
       "      <td>-0.322999</td>\n",
       "      <td>1.0</td>\n",
       "      <td>0.0</td>\n",
       "      <td>0.277350</td>\n",
       "      <td>0.0</td>\n",
       "    </tr>\n",
       "    <tr>\n",
       "      <th>109</th>\n",
       "      <td>-0.765207</td>\n",
       "      <td>0.000000</td>\n",
       "      <td>1.131433</td>\n",
       "      <td>1.686271</td>\n",
       "      <td>-1.0</td>\n",
       "      <td>0.0</td>\n",
       "      <td>0.277350</td>\n",
       "      <td>0.0</td>\n",
       "    </tr>\n",
       "    <tr>\n",
       "      <th>113</th>\n",
       "      <td>1.218663</td>\n",
       "      <td>-1.183216</td>\n",
       "      <td>0.732104</td>\n",
       "      <td>1.187136</td>\n",
       "      <td>-1.0</td>\n",
       "      <td>0.0</td>\n",
       "      <td>0.277350</td>\n",
       "      <td>0.0</td>\n",
       "    </tr>\n",
       "    <tr>\n",
       "      <th>56</th>\n",
       "      <td>0.028341</td>\n",
       "      <td>-0.591608</td>\n",
       "      <td>-1.145694</td>\n",
       "      <td>0.188865</td>\n",
       "      <td>1.0</td>\n",
       "      <td>0.0</td>\n",
       "      <td>0.277350</td>\n",
       "      <td>0.0</td>\n",
       "    </tr>\n",
       "    <tr>\n",
       "      <th>66</th>\n",
       "      <td>-1.161981</td>\n",
       "      <td>1.183216</td>\n",
       "      <td>-2.091724</td>\n",
       "      <td>-1.362511</td>\n",
       "      <td>1.0</td>\n",
       "      <td>0.0</td>\n",
       "      <td>0.277350</td>\n",
       "      <td>0.0</td>\n",
       "    </tr>\n",
       "    <tr>\n",
       "      <th>19</th>\n",
       "      <td>1.615438</td>\n",
       "      <td>1.774824</td>\n",
       "      <td>0.869967</td>\n",
       "      <td>-1.366504</td>\n",
       "      <td>-1.0</td>\n",
       "      <td>0.0</td>\n",
       "      <td>0.277350</td>\n",
       "      <td>0.0</td>\n",
       "    </tr>\n",
       "    <tr>\n",
       "      <th>132</th>\n",
       "      <td>-0.765207</td>\n",
       "      <td>0.000000</td>\n",
       "      <td>0.057047</td>\n",
       "      <td>-0.322999</td>\n",
       "      <td>1.0</td>\n",
       "      <td>0.0</td>\n",
       "      <td>0.277350</td>\n",
       "      <td>0.0</td>\n",
       "    </tr>\n",
       "    <tr>\n",
       "      <th>78</th>\n",
       "      <td>-0.765207</td>\n",
       "      <td>0.591608</td>\n",
       "      <td>0.423099</td>\n",
       "      <td>-0.230846</td>\n",
       "      <td>-1.0</td>\n",
       "      <td>0.0</td>\n",
       "      <td>0.277350</td>\n",
       "      <td>0.0</td>\n",
       "    </tr>\n",
       "    <tr>\n",
       "      <th>11</th>\n",
       "      <td>-0.765207</td>\n",
       "      <td>0.000000</td>\n",
       "      <td>1.131433</td>\n",
       "      <td>1.686271</td>\n",
       "      <td>-1.0</td>\n",
       "      <td>0.0</td>\n",
       "      <td>0.277350</td>\n",
       "      <td>0.0</td>\n",
       "    </tr>\n",
       "    <tr>\n",
       "      <th>27</th>\n",
       "      <td>-0.368433</td>\n",
       "      <td>0.000000</td>\n",
       "      <td>-0.137864</td>\n",
       "      <td>0.126473</td>\n",
       "      <td>1.0</td>\n",
       "      <td>0.0</td>\n",
       "      <td>0.277350</td>\n",
       "      <td>0.0</td>\n",
       "    </tr>\n",
       "    <tr>\n",
       "      <th>127</th>\n",
       "      <td>1.218663</td>\n",
       "      <td>-1.183216</td>\n",
       "      <td>0.732104</td>\n",
       "      <td>1.187136</td>\n",
       "      <td>-1.0</td>\n",
       "      <td>0.0</td>\n",
       "      <td>0.277350</td>\n",
       "      <td>0.0</td>\n",
       "    </tr>\n",
       "    <tr>\n",
       "      <th>110</th>\n",
       "      <td>-0.765207</td>\n",
       "      <td>0.000000</td>\n",
       "      <td>0.922260</td>\n",
       "      <td>-0.559838</td>\n",
       "      <td>1.0</td>\n",
       "      <td>0.0</td>\n",
       "      <td>-3.605551</td>\n",
       "      <td>0.0</td>\n",
       "    </tr>\n",
       "    <tr>\n",
       "      <th>36</th>\n",
       "      <td>-0.765207</td>\n",
       "      <td>0.591608</td>\n",
       "      <td>0.423099</td>\n",
       "      <td>-0.230846</td>\n",
       "      <td>-1.0</td>\n",
       "      <td>0.0</td>\n",
       "      <td>0.277350</td>\n",
       "      <td>0.0</td>\n",
       "    </tr>\n",
       "    <tr>\n",
       "      <th>118</th>\n",
       "      <td>-0.765207</td>\n",
       "      <td>0.000000</td>\n",
       "      <td>0.057047</td>\n",
       "      <td>-0.322999</td>\n",
       "      <td>1.0</td>\n",
       "      <td>0.0</td>\n",
       "      <td>0.277350</td>\n",
       "      <td>0.0</td>\n",
       "    </tr>\n",
       "    <tr>\n",
       "      <th>60</th>\n",
       "      <td>0.821889</td>\n",
       "      <td>-0.591608</td>\n",
       "      <td>-0.537193</td>\n",
       "      <td>1.152820</td>\n",
       "      <td>-1.0</td>\n",
       "      <td>0.0</td>\n",
       "      <td>0.277350</td>\n",
       "      <td>0.0</td>\n",
       "    </tr>\n",
       "    <tr>\n",
       "      <th>4</th>\n",
       "      <td>0.821889</td>\n",
       "      <td>-0.591608</td>\n",
       "      <td>-0.537193</td>\n",
       "      <td>1.152820</td>\n",
       "      <td>-1.0</td>\n",
       "      <td>0.0</td>\n",
       "      <td>0.277350</td>\n",
       "      <td>0.0</td>\n",
       "    </tr>\n",
       "    <tr>\n",
       "      <th>131</th>\n",
       "      <td>1.615438</td>\n",
       "      <td>1.774824</td>\n",
       "      <td>0.869967</td>\n",
       "      <td>-1.366504</td>\n",
       "      <td>-1.0</td>\n",
       "      <td>0.0</td>\n",
       "      <td>0.277350</td>\n",
       "      <td>0.0</td>\n",
       "    </tr>\n",
       "    <tr>\n",
       "      <th>26</th>\n",
       "      <td>-0.765207</td>\n",
       "      <td>0.000000</td>\n",
       "      <td>0.922260</td>\n",
       "      <td>-0.559838</td>\n",
       "      <td>1.0</td>\n",
       "      <td>0.0</td>\n",
       "      <td>-3.605551</td>\n",
       "      <td>0.0</td>\n",
       "    </tr>\n",
       "    <tr>\n",
       "      <th>138</th>\n",
       "      <td>-0.765207</td>\n",
       "      <td>0.000000</td>\n",
       "      <td>0.922260</td>\n",
       "      <td>-0.559838</td>\n",
       "      <td>1.0</td>\n",
       "      <td>0.0</td>\n",
       "      <td>-3.605551</td>\n",
       "      <td>0.0</td>\n",
       "    </tr>\n",
       "    <tr>\n",
       "      <th>96</th>\n",
       "      <td>-0.765207</td>\n",
       "      <td>0.000000</td>\n",
       "      <td>0.922260</td>\n",
       "      <td>-0.559838</td>\n",
       "      <td>1.0</td>\n",
       "      <td>0.0</td>\n",
       "      <td>-3.605551</td>\n",
       "      <td>0.0</td>\n",
       "    </tr>\n",
       "  </tbody>\n",
       "</table>\n",
       "</div>"
      ],
      "text/plain": [
       "     Car_Name      Year  Present_Price  Kms_Driven  Fuel_Type  Seller_Type  \\\n",
       "108 -1.161981  1.183216      -2.091724   -1.362511        1.0          0.0   \n",
       "67  -0.765207  0.000000       1.131433    1.686271       -1.0          0.0   \n",
       "31   2.012212 -2.366432      -1.830259   -1.171279        1.0          0.0   \n",
       "119  0.425115  0.000000       0.289989    0.589983       -1.0          0.0   \n",
       "42   0.028341 -0.591608      -1.145694    0.188865        1.0          0.0   \n",
       "12  -0.765207  0.000000       0.922260   -0.559838        1.0          0.0   \n",
       "81  -0.765207  0.000000       1.131433    1.686271       -1.0          0.0   \n",
       "69  -0.368433  0.000000      -0.137864    0.126473        1.0          0.0   \n",
       "104 -0.765207  0.000000       0.057047   -0.322999        1.0          0.0   \n",
       "109 -0.765207  0.000000       1.131433    1.686271       -1.0          0.0   \n",
       "113  1.218663 -1.183216       0.732104    1.187136       -1.0          0.0   \n",
       "56   0.028341 -0.591608      -1.145694    0.188865        1.0          0.0   \n",
       "66  -1.161981  1.183216      -2.091724   -1.362511        1.0          0.0   \n",
       "19   1.615438  1.774824       0.869967   -1.366504       -1.0          0.0   \n",
       "132 -0.765207  0.000000       0.057047   -0.322999        1.0          0.0   \n",
       "78  -0.765207  0.591608       0.423099   -0.230846       -1.0          0.0   \n",
       "11  -0.765207  0.000000       1.131433    1.686271       -1.0          0.0   \n",
       "27  -0.368433  0.000000      -0.137864    0.126473        1.0          0.0   \n",
       "127  1.218663 -1.183216       0.732104    1.187136       -1.0          0.0   \n",
       "110 -0.765207  0.000000       0.922260   -0.559838        1.0          0.0   \n",
       "36  -0.765207  0.591608       0.423099   -0.230846       -1.0          0.0   \n",
       "118 -0.765207  0.000000       0.057047   -0.322999        1.0          0.0   \n",
       "60   0.821889 -0.591608      -0.537193    1.152820       -1.0          0.0   \n",
       "4    0.821889 -0.591608      -0.537193    1.152820       -1.0          0.0   \n",
       "131  1.615438  1.774824       0.869967   -1.366504       -1.0          0.0   \n",
       "26  -0.765207  0.000000       0.922260   -0.559838        1.0          0.0   \n",
       "138 -0.765207  0.000000       0.922260   -0.559838        1.0          0.0   \n",
       "96  -0.765207  0.000000       0.922260   -0.559838        1.0          0.0   \n",
       "\n",
       "     Transmission  Owner  \n",
       "108      0.277350    0.0  \n",
       "67       0.277350    0.0  \n",
       "31       0.277350    0.0  \n",
       "119      0.277350    0.0  \n",
       "42       0.277350    0.0  \n",
       "12      -3.605551    0.0  \n",
       "81       0.277350    0.0  \n",
       "69       0.277350    0.0  \n",
       "104      0.277350    0.0  \n",
       "109      0.277350    0.0  \n",
       "113      0.277350    0.0  \n",
       "56       0.277350    0.0  \n",
       "66       0.277350    0.0  \n",
       "19       0.277350    0.0  \n",
       "132      0.277350    0.0  \n",
       "78       0.277350    0.0  \n",
       "11       0.277350    0.0  \n",
       "27       0.277350    0.0  \n",
       "127      0.277350    0.0  \n",
       "110     -3.605551    0.0  \n",
       "36       0.277350    0.0  \n",
       "118      0.277350    0.0  \n",
       "60       0.277350    0.0  \n",
       "4        0.277350    0.0  \n",
       "131      0.277350    0.0  \n",
       "26      -3.605551    0.0  \n",
       "138     -3.605551    0.0  \n",
       "96      -3.605551    0.0  "
      ]
     },
     "execution_count": 73,
     "metadata": {},
     "output_type": "execute_result"
    }
   ],
   "source": [
    "x_test"
   ]
  },
  {
   "cell_type": "code",
   "execution_count": 74,
   "id": "87114f48-db0f-406e-bc4c-d64bfd8d5646",
   "metadata": {},
   "outputs": [
    {
     "data": {
      "text/plain": [
       "108    2.25\n",
       "67     6.85\n",
       "31     2.85\n",
       "119    6.50\n",
       "42     3.35\n",
       "12     7.50\n",
       "81     6.85\n",
       "69     6.10\n",
       "104    6.75\n",
       "109    6.85\n",
       "113    4.75\n",
       "56     3.35\n",
       "66     2.25\n",
       "19     9.25\n",
       "132    6.75\n",
       "78     8.75\n",
       "11     6.85\n",
       "27     6.10\n",
       "127    4.75\n",
       "110    7.50\n",
       "36     8.75\n",
       "118    6.75\n",
       "60     4.60\n",
       "4      4.60\n",
       "131    9.25\n",
       "26     7.50\n",
       "138    7.50\n",
       "96     7.50\n",
       "Name: Selling_Price, dtype: float64"
      ]
     },
     "execution_count": 74,
     "metadata": {},
     "output_type": "execute_result"
    }
   ],
   "source": [
    "y_test"
   ]
  },
  {
   "cell_type": "code",
   "execution_count": null,
   "id": "021338f8-97a7-4844-b8dc-8e89b2d5c4ee",
   "metadata": {},
   "outputs": [],
   "source": []
  },
  {
   "cell_type": "code",
   "execution_count": 96,
   "id": "bce4aab0-1ae1-4efe-968b-12a8bc57be7d",
   "metadata": {},
   "outputs": [],
   "source": [
    "new_data=pd.DataFrame([[\"ritz\",2014,5.59,27000,\"Petrol\",\"Dealer\",\"Manual\",\t0]],columns=x_train.columns)"
   ]
  },
  {
   "cell_type": "code",
   "execution_count": 111,
   "id": "165dac2a-e54f-41dd-b63b-2edc6c7a8ebe",
   "metadata": {},
   "outputs": [
    {
     "data": {
      "text/html": [
       "<div>\n",
       "<style scoped>\n",
       "    .dataframe tbody tr th:only-of-type {\n",
       "        vertical-align: middle;\n",
       "    }\n",
       "\n",
       "    .dataframe tbody tr th {\n",
       "        vertical-align: top;\n",
       "    }\n",
       "\n",
       "    .dataframe thead th {\n",
       "        text-align: right;\n",
       "    }\n",
       "</style>\n",
       "<table border=\"1\" class=\"dataframe\">\n",
       "  <thead>\n",
       "    <tr style=\"text-align: right;\">\n",
       "      <th></th>\n",
       "      <th>Car_Name</th>\n",
       "      <th>Year</th>\n",
       "      <th>Present_Price</th>\n",
       "      <th>Kms_Driven</th>\n",
       "      <th>Fuel_Type</th>\n",
       "      <th>Seller_Type</th>\n",
       "      <th>Transmission</th>\n",
       "      <th>Owner</th>\n",
       "    </tr>\n",
       "  </thead>\n",
       "  <tbody>\n",
       "    <tr>\n",
       "      <th>0</th>\n",
       "      <td>-1.161981</td>\n",
       "      <td>-0.591608</td>\n",
       "      <td>-1.145694</td>\n",
       "      <td>0.188865</td>\n",
       "      <td>-1.0</td>\n",
       "      <td>0.0</td>\n",
       "      <td>-3.605551</td>\n",
       "      <td>0.0</td>\n",
       "    </tr>\n",
       "  </tbody>\n",
       "</table>\n",
       "</div>"
      ],
      "text/plain": [
       "   Car_Name      Year  Present_Price  Kms_Driven  Fuel_Type  Seller_Type  \\\n",
       "0 -1.161981 -0.591608      -1.145694    0.188865       -1.0          0.0   \n",
       "\n",
       "   Transmission  Owner  \n",
       "0     -3.605551    0.0  "
      ]
     },
     "execution_count": 111,
     "metadata": {},
     "output_type": "execute_result"
    }
   ],
   "source": [
    "new_data"
   ]
  },
  {
   "cell_type": "code",
   "execution_count": 98,
   "id": "5b19d17f-ece4-46b6-aa03-d047df3278b3",
   "metadata": {},
   "outputs": [],
   "source": [
    "from sklearn.preprocessing import LabelEncoder\n",
    "\n",
    "# Create label encoder for Car_Name\n",
    "car_name_l = LabelEncoder()\n",
    "new_data[\"Car_Name\"] = car_name_l.fit_transform(new_data[\"Car_Name\"])"
   ]
  },
  {
   "cell_type": "code",
   "execution_count": 99,
   "id": "c17c5d6a-9f96-43d1-bfcd-94a1430fc780",
   "metadata": {},
   "outputs": [],
   "source": [
    "from sklearn.preprocessing import LabelEncoder\n",
    "\n",
    "fuel_type_l = LabelEncoder()\n",
    "new_data[\"Fuel_Type\"] = fuel_type_l.fit_transform(new_data[\"Fuel_Type\"])\n"
   ]
  },
  {
   "cell_type": "code",
   "execution_count": 100,
   "id": "e9db3ab7-22fb-499f-9cab-46072da92c55",
   "metadata": {},
   "outputs": [],
   "source": [
    "from sklearn.preprocessing import LabelEncoder\n",
    "\n",
    "fuel_type_l = LabelEncoder()\n",
    "new_data[\"Fuel_Type\"] = fuel_type_l.fit_transform(new_data[\"Fuel_Type\"])\n"
   ]
  },
  {
   "cell_type": "code",
   "execution_count": 101,
   "id": "a1494f39-9c53-4039-9484-3298090d354a",
   "metadata": {},
   "outputs": [],
   "source": [
    "# For Seller_Type\n",
    "seller_type_l = LabelEncoder()\n",
    "new_data[\"Seller_Type\"] = seller_type_l.fit_transform(new_data[\"Seller_Type\"])"
   ]
  },
  {
   "cell_type": "code",
   "execution_count": 102,
   "id": "3ed82662-3591-41c9-a9ca-4f945bc0de33",
   "metadata": {},
   "outputs": [],
   "source": [
    "# For Transmission\n",
    "transmission_l = LabelEncoder()\n",
    "new_data[\"Transmission\"] = transmission_l.fit_transform(new_data[\"Transmission\"])"
   ]
  },
  {
   "cell_type": "code",
   "execution_count": 103,
   "id": "3544d232-e9b6-47e1-b626-d3d6a22ac828",
   "metadata": {},
   "outputs": [],
   "source": [
    "# Remove wrong column if exists\n",
    "if \"Car_Name\\t\" in new_data.columns:\n",
    "    new_data.drop(columns=[\"Car_Name\\t\"], inplace=True)\n"
   ]
  },
  {
   "cell_type": "code",
   "execution_count": 104,
   "id": "953c3f8e-ea76-486b-a93c-f13f42ad9e9f",
   "metadata": {},
   "outputs": [
    {
     "name": "stdout",
     "output_type": "stream",
     "text": [
      "Index(['Car_Name', 'Year', 'Present_Price', 'Kms_Driven', 'Fuel_Type',\n",
      "       'Seller_Type', 'Transmission', 'Owner'],\n",
      "      dtype='object')\n"
     ]
    }
   ],
   "source": [
    "print(new_data.columns)"
   ]
  },
  {
   "cell_type": "code",
   "execution_count": 110,
   "id": "71f5839b-757d-40e3-9203-4bc44a42cc9c",
   "metadata": {},
   "outputs": [],
   "source": [
    "new_data = pd.DataFrame(ss.transform(new_data), columns=new_data.columns)\n"
   ]
  },
  {
   "cell_type": "code",
   "execution_count": 114,
   "id": "cb1f0aea-5562-4e72-9601-452ff461029d",
   "metadata": {},
   "outputs": [
    {
     "data": {
      "text/plain": [
       "array([4.1075])"
      ]
     },
     "execution_count": 114,
     "metadata": {},
     "output_type": "execute_result"
    }
   ],
   "source": [
    "rf.predict(new_data)"
   ]
  },
  {
   "cell_type": "code",
   "execution_count": null,
   "id": "2e5e4ff7-2f24-467f-b8dd-cfbc181f47f3",
   "metadata": {},
   "outputs": [],
   "source": []
  }
 ],
 "metadata": {
  "kernelspec": {
   "display_name": "Python 3 (ipykernel)",
   "language": "python",
   "name": "python3"
  },
  "language_info": {
   "codemirror_mode": {
    "name": "ipython",
    "version": 3
   },
   "file_extension": ".py",
   "mimetype": "text/x-python",
   "name": "python",
   "nbconvert_exporter": "python",
   "pygments_lexer": "ipython3",
   "version": "3.13.2"
  }
 },
 "nbformat": 4,
 "nbformat_minor": 5
}
